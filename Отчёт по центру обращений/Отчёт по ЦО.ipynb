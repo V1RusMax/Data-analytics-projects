{
 "cells": [
  {
   "cell_type": "markdown",
   "id": "e8ad700a",
   "metadata": {},
   "source": [
    "# Отчёт по центру обращений"
   ]
  },
  {
   "cell_type": "code",
   "execution_count": 1,
   "id": "1048bd98",
   "metadata": {},
   "outputs": [],
   "source": [
    "import pandas as pd\n",
    "import numpy as np\n",
    "import datetime\n",
    "from IPython.display import display\n",
    "import matplotlib.pyplot as plt\n",
    "import seaborn as sn\n",
    "import warnings"
   ]
  },
  {
   "cell_type": "code",
   "execution_count": 2,
   "id": "2fffe00c",
   "metadata": {},
   "outputs": [],
   "source": [
    "pd.set_option('display.max_columns', None)\n",
    "warnings.filterwarnings(\"ignore\")"
   ]
  },
  {
   "cell_type": "markdown",
   "id": "113c0d82",
   "metadata": {},
   "source": [
    "## Вспомогательные переменные"
   ]
  },
  {
   "cell_type": "code",
   "execution_count": 3,
   "id": "b1ff72e8",
   "metadata": {},
   "outputs": [],
   "source": [
    "# Сегодняшний день\n",
    "today = datetime.date.today()\n",
    "# Сегодняшний день недели\n",
    "today_weekday = today.strftime('%A')\n",
    "# Сейчас\n",
    "now_row = datetime.datetime.now()\n",
    "now = now_row.strftime(\"%Y-%m-%d %H-%M-%S\")\n",
    "# Вчерашняя дата, позавчерашняя и т.д.\n",
    "yesterday = today - datetime.timedelta(days=1)\n",
    "the_day_before_yeasterday = today - datetime.timedelta(days=2)\n",
    "two_days_before_yeasterday = today - datetime.timedelta(days=3)\n",
    "three_days_before_yeasterday = today - datetime.timedelta(days=4)\n",
    "four_days_before = today - datetime.timedelta(days=5)\n",
    "five_days_before = today - datetime.timedelta(days=6)\n",
    "# Список логистических центров\n",
    "LC = ['Воронеж','Казань','Котельники','МЯ','Новосибирск','Ростов','Самара','СЗ', 'Урал','ЦПП']\n",
    "# путь в директорию архива\n",
    "# для рекламаций\n",
    "archive_path_not_ready =f\"C:\\\\Users\\\\rassadin_mi\\\\Desktop\\\\автоматизация отчёт ЦО\\\\отчёт по ЦО\\\\Архив\\\\{now} Не закрытые товарные.xlsx\"\n",
    "# для обращений\n",
    "archive_path_not_ready_non_marketable = f\"C:\\\\Users\\\\rassadin_mi\\\\Desktop\\\\автоматизация отчёт ЦО\\\\отчёт по ЦО\\\\Архив\\\\{now} Качество обслуживания.xlsx\"\n"
   ]
  },
  {
   "cell_type": "markdown",
   "id": "2f50164b",
   "metadata": {},
   "source": [
    "##  Загрузка данных"
   ]
  },
  {
   "cell_type": "code",
   "execution_count": 4,
   "id": "611ee150",
   "metadata": {},
   "outputs": [],
   "source": [
    "# загрузка построчного файла рекламаций\n",
    "raw_compliants_lines = pd.read_csv(\"C:\\\\Users\\\\rassadin_mi\\\\Desktop\\\\автоматизация отчёт ЦО\\\\отчёт по ЦО\\\\yyy.csv\",\n",
    "                                   encoding='utf-8', dtype={'Описание претензии': str}, low_memory=False, sep=';')\n",
    "# загрузка файла рекламаций\n",
    "raw_compliants = pd.read_csv(\"C:\\\\Users\\\\rassadin_mi\\\\Desktop\\\\автоматизация отчёт ЦО\\\\отчёт по ЦО\\\\xxx.csv\",\n",
    "                             encoding='utf-8', dtype={'Описание претензии': str}, sep=';')\n",
    "# загрузка файла с нетоварными обращениями\n",
    "raw_non_marketable = pd.read_csv(\"C:\\\\Users\\\\rassadin_mi\\\\Desktop\\\\автоматизация отчёт ЦО\\\\отчёт по ЦО\\\\zzz.csv\",\n",
    "                             encoding='utf-8', dtype={'Описание претензии': str}, sep=';')\n",
    "\n",
    "# Чтение и загрузка ВПР, создание слоарей из файлов\n",
    "# списки принадлежности ВТЦ и ОП к логистическим центрам\n",
    "VPR_compliants_lines_lc = pd.read_excel(\"C:\\\\Users\\\\rassadin_mi\\\\Desktop\\\\автоматизация отчёт ЦО\\\\отчёт по ЦО\\\\ВПР\\\\ВПР построчный ЛЦ.xlsx\")\n",
    "key_compliants_lines_lc = dict(zip(VPR_compliants_lines_lc['Текст'], VPR_compliants_lines_lc['Значение']))\n",
    "# ЛЦ для нетоварных\n",
    "VPR_non_marketable = pd.read_excel(\"C:\\\\Users\\\\rassadin_mi\\\\Desktop\\\\автоматизация отчёт ЦО\\\\отчёт по ЦО\\\\ВПР\\\\ВПР нетоварные ЛЦ.xlsx\")\n",
    "key_non_marketable = dict(zip(VPR_non_marketable['Текст'], VPR_non_marketable['Значение']))\n",
    "# Маркер этапа для построчных рекламаций\n",
    "VPR_compliants_lines_stage_marker = pd.read_excel(\"C:\\\\Users\\\\rassadin_mi\\\\Desktop\\\\автоматизация отчёт ЦО\\\\отчёт по ЦО\\\\ВПР\\\\ВПР построчный маркер этапа.xlsx\")\n",
    "key_compliants_lines_stage_marker = dict(zip(VPR_compliants_lines_stage_marker['Текст'],\n",
    "                                            VPR_compliants_lines_stage_marker['Значение']))\n",
    "# Маркер этапа для рекламаций\n",
    "VPR_compliants_stage_marker = pd.read_excel(\"C:\\\\Users\\\\rassadin_mi\\\\Desktop\\\\автоматизация отчёт ЦО\\\\отчёт по ЦО\\\\ВПР\\\\ВПР рабочий маркер этапа.xlsx\")\n",
    "key_compliants_stage_marker = dict(zip(VPR_compliants_stage_marker['Текст'],\n",
    "                                            VPR_compliants_stage_marker['Значение']))\n",
    "# Таймер контроля для незавершенных рекламаций\n",
    "VPR_control_timer = pd.read_excel(\"C:\\\\Users\\\\rassadin_mi\\\\Desktop\\\\автоматизация отчёт ЦО\\\\отчёт по ЦО\\\\ВПР\\\\ВПР таймер контроля.xlsx\")\n",
    "key_control_timer = dict(zip(VPR_control_timer['Текст'],\n",
    "                                            VPR_control_timer['Значение']))"
   ]
  },
  {
   "cell_type": "markdown",
   "id": "2e3cb8a9",
   "metadata": {},
   "source": [
    "## Предобработка форматов данных"
   ]
  },
  {
   "cell_type": "code",
   "execution_count": 5,
   "id": "46885401",
   "metadata": {
    "scrolled": true
   },
   "outputs": [],
   "source": [
    "# Преобразование форматов времени\n",
    "raw_compliants[['Дата запуска процесса', \n",
    "                'Дата завершения процесса']] = raw_compliants[[\n",
    "                'Дата запуска процесса', \n",
    "                'Дата завершения процесса']].apply(pd.to_datetime)\n",
    "raw_compliants['Дата запуска текущего этапа'] = pd.to_datetime(\n",
    "    raw_compliants['Дата запуска текущего этапа'], format='%d.%m.%Y %H:%M:%S')\n",
    "\n",
    "raw_compliants_lines[['Дата запуска процесса',\n",
    "                      'Дата завершения процесса']] = raw_compliants_lines[[\n",
    "                      'Дата запуска процесса',\n",
    "                      'Дата завершения процесса']].apply(pd.to_datetime)\n",
    "raw_compliants_lines['Дата запуска текущего этапа'] = pd.to_datetime(\n",
    "    raw_compliants_lines['Дата запуска текущего этапа'], format='%d.%m.%Y %H:%M:%S')"
   ]
  },
  {
   "cell_type": "code",
   "execution_count": 6,
   "id": "f33d33de",
   "metadata": {},
   "outputs": [],
   "source": [
    "raw_non_marketable[['Дата запуска','Дата ответа',\n",
    "                    'Дата запуска текущего этапа',\n",
    "                    'Дата закрытия текущего этапа']] = raw_non_marketable[[\n",
    "                    'Дата запуска','Дата ответа',\n",
    "                    'Дата запуска текущего этапа',\n",
    "                    'Дата закрытия текущего этапа']].apply(lambda x: pd.to_datetime(x, format='%d.%m.%Y %H:%M:%S'))"
   ]
  },
  {
   "cell_type": "markdown",
   "id": "55b8be68",
   "metadata": {},
   "source": [
    "## Работа с построчным файлом рекламаций"
   ]
  },
  {
   "cell_type": "code",
   "execution_count": 7,
   "id": "dd4d1c86",
   "metadata": {},
   "outputs": [],
   "source": [
    "compliants_lines = raw_compliants_lines"
   ]
  },
  {
   "cell_type": "code",
   "execution_count": 8,
   "id": "15c8b349",
   "metadata": {},
   "outputs": [],
   "source": [
    "# Функция для идентификации города ЛЦ по должности менеджера\n",
    "def get_lc(row):\n",
    "    if row['Должность менеджера из документа'] in key_compliants_lines_lc:\n",
    "        return key_compliants_lines_lc[row['Должность менеджера из документа']]\n",
    "    elif row['РК по документу'] in key_compliants_lines_lc:\n",
    "        return key_compliants_lines_lc[row['РК по документу']]\n",
    "    else:\n",
    "        return None\n",
    "compliants_lines['ЛЦ'] = compliants_lines.apply(get_lc, axis=1)\n",
    "\n",
    "# Установка маркера для этапов\n",
    "def get_stage_marker(row):\n",
    "    if row['Текущий этап'] in key_compliants_lines_stage_marker:\n",
    "        return key_compliants_lines_stage_marker[row['Текущий этап']]\n",
    "    else:\n",
    "        return None\n",
    "compliants_lines['Маркер этапа'] = compliants_lines.apply(get_stage_marker, axis=1)"
   ]
  },
  {
   "cell_type": "code",
   "execution_count": 9,
   "id": "6517bfd7",
   "metadata": {},
   "outputs": [],
   "source": [
    "# Первая вкладка чистая с \"ЛЦ\" и \"Маркер этапа\" без столбцов прописанных в коде ниже и с правильным порядком столбцов\n",
    "compliants_lines_pure = compliants_lines.drop(['Кол-во товара', 'Id процесса',\n",
    "                                          'Уход','Результат возврата/обмена/довоза',\n",
    "                                          'Ожидает ответа поставщика','ФИО сотр. допуст. ошибку',\n",
    "                                          'Должн. сотр. допуст. ошибку','Описание ошибки',\n",
    "                                               'Кто определил допуст. ошибку'], axis=1)\n",
    "compliants_lines_pure = compliants_lines_pure.rename(columns={'Id родительского процесса': 'Id процесса'})\n",
    "compliants_lines_columns_order = ['Id процесса','РК по документу','ОП по складу',\n",
    "                                  'Номер документа','Код к/а','Название к/а','ФИО к/а','Телефон к/а','Класс 71',\n",
    "                                  'Класс 72','Менеджер из документа','Должность менеджера из документа','ЛЦ','Класс 55',\n",
    "                                  'РК исполнителя этапа','Должность исполнителя этапа','Описание претензии','Описание',\n",
    "                                  'Комментарий','Производитель','Код производителя','Код товара','Описание товара',\n",
    "                                  'Класс 33','Цена за ед. измерения без НДС','Исполнитель текущего этапа','Текущий этап',\n",
    "                                  'Решение','Дата запуска процесса','Дата завершения процесса',\n",
    "                                  'Количество дней работы процесса','Дата запуска текущего этапа',\n",
    "                                  'Количество часов отработки этапа процесса', 'Маркер этапа']\n",
    "compliants_lines_pure = compliants_lines_pure.reindex(columns=compliants_lines_columns_order)"
   ]
  },
  {
   "cell_type": "code",
   "execution_count": 10,
   "id": "b0d86b61",
   "metadata": {},
   "outputs": [],
   "source": [
    "# Это готовый построчный файл который мы будем сливать с рабочим, его отличие от compliants_lines_pure -\n",
    "# лишние удалённые столбцы которые прописаны в коде ниже\n",
    "compliants_lines_ready = compliants_lines_pure.drop(['Решение','Описание','Комментарий','Производитель',\n",
    "                                                'Код производителя','Код товара','Описание товара',\n",
    "                                                'Класс 33','Цена за ед. измерения без НДС'], axis=1)"
   ]
  },
  {
   "cell_type": "markdown",
   "id": "b7925241",
   "metadata": {},
   "source": [
    "## Работа с файлом рекламаций"
   ]
  },
  {
   "cell_type": "code",
   "execution_count": 11,
   "id": "5ff0ca5b",
   "metadata": {},
   "outputs": [],
   "source": [
    "# Добавляю столбец с городом ЛЦ\n",
    "raw_compliants['ЛЦ'] = raw_compliants.apply(get_lc, axis=1)\n",
    "\n",
    "# Добавляю маркер этапа\n",
    "def get_stage_marker2(row):\n",
    "    if row['Текущий этап'] in key_compliants_stage_marker:\n",
    "        return key_compliants_stage_marker[row['Текущий этап']]\n",
    "    else:\n",
    "        return None\n",
    "raw_compliants['Маркер этапа'] = raw_compliants.apply(get_stage_marker2, axis=1)\n",
    "\n",
    "compliants_pure = raw_compliants.drop(['Результат Возврата Товара',\n",
    "                                          'Результат Замены Довоза'], axis=1)"
   ]
  },
  {
   "cell_type": "code",
   "execution_count": 12,
   "id": "e96749a3",
   "metadata": {},
   "outputs": [],
   "source": [
    "compliants = raw_compliants.drop(['Результат Возврата Товара',\n",
    "                                          'Результат Замены Довоза'], axis=1)"
   ]
  },
  {
   "cell_type": "code",
   "execution_count": 13,
   "id": "1549eff5",
   "metadata": {},
   "outputs": [],
   "source": [
    "compliants_created_ended = compliants\n",
    "compliants_created_ended.drop_duplicates(subset='Id процесса', keep='first', inplace=True)"
   ]
  },
  {
   "cell_type": "code",
   "execution_count": 14,
   "id": "76e0138e",
   "metadata": {},
   "outputs": [],
   "source": [
    "# Кусок кода на случай если сегодня понедельник. Он выведет все рекламации за пятницу и субботу.\n",
    "# Да это некрасиво, но пока нет времени оптимизировать данный участок\n",
    "\n",
    "if today_weekday == 'Monday':\n",
    "    compliants_created_ended[\"Дата запуска процесса\"] = pd.to_datetime(compliants_created_ended[\"Дата запуска процесса\"]).dt.date\n",
    "    compliants_created_ended[\"Дата завершения процесса\"] = pd.to_datetime(compliants_created_ended[\"Дата завершения процесса\"]).dt.date\n",
    "    # Фильтруем DataFrame по условию равенства с вчерашней датой\n",
    "    compliants_created_ended_yesterday = compliants_created_ended[compliants_created_ended[\"Дата запуска процесса\"] == two_days_before_yeasterday ]\n",
    "    compliants_created_started_yesterday = compliants_created_ended[compliants_created_ended[\"Дата завершения процесса\"] == two_days_before_yeasterday ]\n",
    "    count_created = compliants_created_ended_yesterday.groupby(\"ЛЦ\").agg(\n",
    "    {'Дата запуска процесса': 'count'}).reset_index()\n",
    "    count_closed = compliants_created_started_yesterday.groupby(\"ЛЦ\").agg(\n",
    "    {'Дата завершения процесса': 'count'}).reset_index()\n",
    "    created_closed_yesterday = pd.merge(count_created, count_closed, on='ЛЦ', how='outer')\n",
    "    created_closed_yesterday = created_closed_yesterday.rename(columns={'Дата запуска процесса': f'Запущено обращений {two_days_before_yeasterday}',\n",
    "                                         'Дата завершения процесса': f'Закрыто обращений {two_days_before_yeasterday}'})\n",
    "    created_closed_yesterday.set_index('ЛЦ', inplace=True)\n",
    "    print(created_closed_yesterday)\n",
    "if today_weekday == 'Monday':\n",
    "    compliants_created_ended[\"Дата запуска процесса\"] = pd.to_datetime(compliants_created_ended[\"Дата запуска процесса\"]).dt.date\n",
    "    compliants_created_ended[\"Дата завершения процесса\"] = pd.to_datetime(compliants_created_ended[\"Дата завершения процесса\"]).dt.date\n",
    "    compliants_created_ended_yesterday = compliants_created_ended[compliants_created_ended[\"Дата запуска процесса\"] ==the_day_before_yeasterday ]\n",
    "    compliants_created_started_yesterday = compliants_created_ended[compliants_created_ended[\"Дата завершения процесса\"] == the_day_before_yeasterday ]\n",
    "    count_created = compliants_created_ended_yesterday.groupby(\"ЛЦ\").agg(\n",
    "    {'Дата запуска процесса': 'count'}).reset_index()\n",
    "    count_closed = compliants_created_started_yesterday.groupby(\"ЛЦ\").agg(\n",
    "    {'Дата завершения процесса': 'count'}).reset_index()\n",
    "    created_closed_yesterday = pd.merge(count_created, count_closed, on='ЛЦ', how='outer')\n",
    "    created_closed_yesterday = created_closed_yesterday.rename(columns={'Дата запуска процесса': f'Запущено обращений {the_day_before_yeasterday}',\n",
    "                                         'Дата завершения процесса': f'Закрыто обращений {the_day_before_yeasterday}'})\n",
    "    created_closed_yesterday.set_index('ЛЦ', inplace=True)\n",
    "    print(created_closed_yesterday)    "
   ]
  },
  {
   "cell_type": "code",
   "execution_count": 15,
   "id": "7a52ccbf",
   "metadata": {},
   "outputs": [],
   "source": [
    "# Преобразуем столбец \"Дата запуска процесса\" в формат даты\n",
    "compliants_created_ended[\"Дата запуска процесса\"] = pd.to_datetime(compliants_created_ended[\"Дата запуска процесса\"]).dt.date\n",
    "compliants_created_ended[\"Дата завершения процесса\"] = pd.to_datetime(compliants_created_ended[\"Дата завершения процесса\"]).dt.date\n",
    "# Фильтруем DataFrame по условию равенства с вчерашней датой\n",
    "compliants_created_ended_yesterday = compliants_created_ended[compliants_created_ended[\"Дата запуска процесса\"] == yesterday ]\n",
    "compliants_created_started_yesterday = compliants_created_ended[compliants_created_ended[\"Дата завершения процесса\"] == yesterday ]\n"
   ]
  },
  {
   "cell_type": "code",
   "execution_count": 16,
   "id": "6b43ff3a",
   "metadata": {},
   "outputs": [
    {
     "data": {
      "text/html": [
       "<div>\n",
       "<style scoped>\n",
       "    .dataframe tbody tr th:only-of-type {\n",
       "        vertical-align: middle;\n",
       "    }\n",
       "\n",
       "    .dataframe tbody tr th {\n",
       "        vertical-align: top;\n",
       "    }\n",
       "\n",
       "    .dataframe thead th {\n",
       "        text-align: right;\n",
       "    }\n",
       "</style>\n",
       "<table border=\"1\" class=\"dataframe\">\n",
       "  <thead>\n",
       "    <tr style=\"text-align: right;\">\n",
       "      <th></th>\n",
       "      <th>Запущено обращений 2023-11-07</th>\n",
       "      <th>Закрыто обращений 2023-11-07</th>\n",
       "    </tr>\n",
       "    <tr>\n",
       "      <th>ЛЦ</th>\n",
       "      <th></th>\n",
       "      <th></th>\n",
       "    </tr>\n",
       "  </thead>\n",
       "  <tbody>\n",
       "    <tr>\n",
       "      <th>Воронеж</th>\n",
       "      <td>59</td>\n",
       "      <td>54</td>\n",
       "    </tr>\n",
       "    <tr>\n",
       "      <th>Казань</th>\n",
       "      <td>149</td>\n",
       "      <td>135</td>\n",
       "    </tr>\n",
       "    <tr>\n",
       "      <th>Котельники</th>\n",
       "      <td>130</td>\n",
       "      <td>135</td>\n",
       "    </tr>\n",
       "    <tr>\n",
       "      <th>МЯ</th>\n",
       "      <td>94</td>\n",
       "      <td>95</td>\n",
       "    </tr>\n",
       "    <tr>\n",
       "      <th>Новосибирск</th>\n",
       "      <td>81</td>\n",
       "      <td>53</td>\n",
       "    </tr>\n",
       "    <tr>\n",
       "      <th>Ростов</th>\n",
       "      <td>70</td>\n",
       "      <td>65</td>\n",
       "    </tr>\n",
       "    <tr>\n",
       "      <th>СЗ</th>\n",
       "      <td>162</td>\n",
       "      <td>198</td>\n",
       "    </tr>\n",
       "    <tr>\n",
       "      <th>Самара</th>\n",
       "      <td>142</td>\n",
       "      <td>124</td>\n",
       "    </tr>\n",
       "    <tr>\n",
       "      <th>Урал</th>\n",
       "      <td>86</td>\n",
       "      <td>109</td>\n",
       "    </tr>\n",
       "    <tr>\n",
       "      <th>ЦПП</th>\n",
       "      <td>22</td>\n",
       "      <td>15</td>\n",
       "    </tr>\n",
       "  </tbody>\n",
       "</table>\n",
       "</div>"
      ],
      "text/plain": [
       "             Запущено обращений 2023-11-07  Закрыто обращений 2023-11-07\n",
       "ЛЦ                                                                      \n",
       "Воронеж                                 59                            54\n",
       "Казань                                 149                           135\n",
       "Котельники                             130                           135\n",
       "МЯ                                      94                            95\n",
       "Новосибирск                             81                            53\n",
       "Ростов                                  70                            65\n",
       "СЗ                                     162                           198\n",
       "Самара                                 142                           124\n",
       "Урал                                    86                           109\n",
       "ЦПП                                     22                            15"
      ]
     },
     "execution_count": 16,
     "metadata": {},
     "output_type": "execute_result"
    }
   ],
   "source": [
    "count_created = compliants_created_ended_yesterday.groupby(\"ЛЦ\").agg(\n",
    "    {'Дата запуска процесса': 'count'}).reset_index()\n",
    "count_closed = compliants_created_started_yesterday.groupby(\"ЛЦ\").agg(\n",
    "    {'Дата завершения процесса': 'count'}).reset_index()\n",
    "created_closed_yesterday = pd.merge(count_created, count_closed, on='ЛЦ', how='outer')\n",
    "created_closed_yesterday = created_closed_yesterday.rename(columns={'Дата запуска процесса': f'Запущено обращений {yesterday}',\n",
    "                                         'Дата завершения процесса': f'Закрыто обращений {yesterday}'})\n",
    "\n",
    "created_closed_yesterday.set_index('ЛЦ', inplace=True)\n",
    "\n",
    "created_closed_yesterday"
   ]
  },
  {
   "cell_type": "code",
   "execution_count": 17,
   "id": "74016914",
   "metadata": {},
   "outputs": [
    {
     "name": "stdout",
     "output_type": "stream",
     "text": [
      "Всего запущено рекламаций за 2023-11-07: 995 \n",
      "Всего закрыто орекламаций за 2023-11-07: 983 \n",
      "Коэффециент отработки рекламаций по сети за  2023-11-07: 0.99 \n"
     ]
    }
   ],
   "source": [
    "column_open = \"Запущено обращений \" + str(yesterday)\n",
    "column_closed = \"Закрыто обращений \" + str(yesterday)\n",
    "\n",
    "print(f\"Всего запущено рекламаций за {yesterday}: {created_closed_yesterday.reset_index().sum()[column_open]} \")\n",
    "print(f\"Всего закрыто орекламаций за {yesterday}: {created_closed_yesterday.reset_index().sum()[column_closed ]} \")\n",
    "print(f\"Коэффециент отработки рекламаций по сети за  {yesterday}: {round(created_closed_yesterday.reset_index().sum()[column_closed ] / created_closed_yesterday.reset_index().sum()[column_open], 2)} \")"
   ]
  },
  {
   "cell_type": "markdown",
   "id": "fc61363a",
   "metadata": {},
   "source": [
    "### Формирование файла для незавершенных рекламаций"
   ]
  },
  {
   "cell_type": "markdown",
   "id": "c2f8761f",
   "metadata": {},
   "source": [
    "Полный список всех незавершенных рекламаций для руководителей."
   ]
  },
  {
   "cell_type": "code",
   "execution_count": 18,
   "id": "541887fa",
   "metadata": {},
   "outputs": [],
   "source": [
    "compliants_order = ['Id процесса','РК по документу','ОП по складу',\n",
    "                                  'Номер документа','Код к/а','Название к/а','ФИО к/а','Телефон к/а','Класс 71',\n",
    "                                  'Класс 72','Менеджер из документа','Должность менеджера из документа','ЛЦ','Класс 55',\n",
    "                                  'РК исполнителя этапа','Должность исполнителя этапа','Описание претензии',\n",
    "                                  'Исполнитель текущего этапа','Текущий этап',\n",
    "                                  'Дата запуска процесса','Дата завершения процесса',\n",
    "                                  'Количество дней работы процесса','Дата запуска текущего этапа',\n",
    "                                  'Количество часов отработки этапа процесса', 'Маркер этапа']\n",
    "compliants_not_ready = raw_compliants.reindex(columns=compliants_order)"
   ]
  },
  {
   "cell_type": "code",
   "execution_count": 19,
   "id": "77a17135",
   "metadata": {},
   "outputs": [],
   "source": [
    "# Совмещаю рабочий файл и построчный\n",
    "compliants_not_ready = pd.concat([compliants_not_ready, compliants_lines_ready])"
   ]
  },
  {
   "cell_type": "code",
   "execution_count": 20,
   "id": "837e67a6",
   "metadata": {},
   "outputs": [],
   "source": [
    "# Сортидую для удаления дубликатов ранних маркеров этапа\n",
    "compliants_not_ready = compliants_not_ready.sort_values(['Маркер этапа'], ascending=False)\n",
    "compliants_not_ready.drop_duplicates(subset='Id процесса', keep='first', inplace=True)\n",
    "compliants_not_ready = compliants_not_ready[pd.isna(compliants_not_ready['Дата завершения процесса'])]\n",
    "# Добавляю таймер контроля для оповещения руководителей о проблемных обращениях\n",
    "def get_control_timer(row):\n",
    "    if row['Текущий этап'] in key_control_timer:\n",
    "        return key_control_timer[row['Текущий этап']]\n",
    "    else:\n",
    "        return None\n",
    "compliants_not_ready['Таймер контроля'] = compliants_not_ready.apply(get_control_timer, axis=1)\n",
    "compliants_not_ready['Контроль'] = (compliants_not_ready[\n",
    "    'Количество часов отработки этапа процесса'] > compliants_not_ready['Таймер контроля']).astype(int)\n"
   ]
  },
  {
   "cell_type": "markdown",
   "id": "2ba1c2c9",
   "metadata": {},
   "source": [
    "### Рассчёт обращений на этапах"
   ]
  },
  {
   "cell_type": "code",
   "execution_count": 21,
   "id": "51f8838a",
   "metadata": {},
   "outputs": [],
   "source": [
    "# size считает количество строк в каждой группе\n",
    "compliants_not_ready_grouped = compliants_not_ready.groupby([\"Маркер этапа\", \n",
    "                                                             \"ЛЦ\"]).size().reset_index(name=\"Count\")"
   ]
  },
  {
   "cell_type": "code",
   "execution_count": 22,
   "id": "803f8e2e",
   "metadata": {},
   "outputs": [],
   "source": [
    "pivot_compliants_not_ready = compliants_not_ready_grouped.pivot_table(index='Маркер этапа',\n",
    "                                                                      columns='ЛЦ', values='Count', aggfunc='sum')"
   ]
  },
  {
   "cell_type": "code",
   "execution_count": 23,
   "id": "71e13d35",
   "metadata": {
    "scrolled": true
   },
   "outputs": [
    {
     "data": {
      "text/html": [
       "<div>\n",
       "<style scoped>\n",
       "    .dataframe tbody tr th:only-of-type {\n",
       "        vertical-align: middle;\n",
       "    }\n",
       "\n",
       "    .dataframe tbody tr th {\n",
       "        vertical-align: top;\n",
       "    }\n",
       "\n",
       "    .dataframe thead th {\n",
       "        text-align: right;\n",
       "    }\n",
       "</style>\n",
       "<table border=\"1\" class=\"dataframe\">\n",
       "  <thead>\n",
       "    <tr style=\"text-align: right;\">\n",
       "      <th></th>\n",
       "      <th>До 3 этапа</th>\n",
       "      <th>3 этап</th>\n",
       "      <th>После 3 этапа</th>\n",
       "    </tr>\n",
       "    <tr>\n",
       "      <th>ЛЦ</th>\n",
       "      <th></th>\n",
       "      <th></th>\n",
       "      <th></th>\n",
       "    </tr>\n",
       "  </thead>\n",
       "  <tbody>\n",
       "    <tr>\n",
       "      <th>Воронеж</th>\n",
       "      <td>68.0</td>\n",
       "      <td>12.0</td>\n",
       "      <td>64.0</td>\n",
       "    </tr>\n",
       "    <tr>\n",
       "      <th>Казань</th>\n",
       "      <td>174.0</td>\n",
       "      <td>19.0</td>\n",
       "      <td>111.0</td>\n",
       "    </tr>\n",
       "    <tr>\n",
       "      <th>Котельники</th>\n",
       "      <td>75.0</td>\n",
       "      <td>76.0</td>\n",
       "      <td>116.0</td>\n",
       "    </tr>\n",
       "    <tr>\n",
       "      <th>МЯ</th>\n",
       "      <td>59.0</td>\n",
       "      <td>9.0</td>\n",
       "      <td>69.0</td>\n",
       "    </tr>\n",
       "    <tr>\n",
       "      <th>Новосибирск</th>\n",
       "      <td>95.0</td>\n",
       "      <td>9.0</td>\n",
       "      <td>63.0</td>\n",
       "    </tr>\n",
       "    <tr>\n",
       "      <th>Ростов</th>\n",
       "      <td>59.0</td>\n",
       "      <td>17.0</td>\n",
       "      <td>96.0</td>\n",
       "    </tr>\n",
       "    <tr>\n",
       "      <th>Самара</th>\n",
       "      <td>114.0</td>\n",
       "      <td>30.0</td>\n",
       "      <td>161.0</td>\n",
       "    </tr>\n",
       "    <tr>\n",
       "      <th>СЗ</th>\n",
       "      <td>188.0</td>\n",
       "      <td>41.0</td>\n",
       "      <td>280.0</td>\n",
       "    </tr>\n",
       "    <tr>\n",
       "      <th>Урал</th>\n",
       "      <td>245.0</td>\n",
       "      <td>30.0</td>\n",
       "      <td>64.0</td>\n",
       "    </tr>\n",
       "    <tr>\n",
       "      <th>ЦПП</th>\n",
       "      <td>17.0</td>\n",
       "      <td>3.0</td>\n",
       "      <td>24.0</td>\n",
       "    </tr>\n",
       "  </tbody>\n",
       "</table>\n",
       "</div>"
      ],
      "text/plain": [
       "             До 3 этапа  3 этап  После 3 этапа\n",
       "ЛЦ                                            \n",
       "Воронеж            68.0    12.0           64.0\n",
       "Казань            174.0    19.0          111.0\n",
       "Котельники         75.0    76.0          116.0\n",
       "МЯ                 59.0     9.0           69.0\n",
       "Новосибирск        95.0     9.0           63.0\n",
       "Ростов             59.0    17.0           96.0\n",
       "Самара            114.0    30.0          161.0\n",
       "СЗ                188.0    41.0          280.0\n",
       "Урал              245.0    30.0           64.0\n",
       "ЦПП                17.0     3.0           24.0"
      ]
     },
     "execution_count": 23,
     "metadata": {},
     "output_type": "execute_result"
    }
   ],
   "source": [
    "# Собираю табличку для просмотра количества обращений на всех этапах\n",
    "less_than_3 = pivot_compliants_not_ready[pivot_compliants_not_ready.index < 3][LC].sum()\n",
    "equal_to_3 = pivot_compliants_not_ready[pivot_compliants_not_ready.index.astype(float) == 3][LC].sum()\n",
    "greater_than_3 = pivot_compliants_not_ready[pivot_compliants_not_ready.index.astype(float) > 3][LC].sum()\n",
    "complianses_in_process = pd.concat([less_than_3, equal_to_3, greater_than_3], axis=1)\n",
    "complianses_in_process.columns =['До 3 этапа', '3 этап', 'После 3 этапа']\n",
    "complianses_in_process"
   ]
  },
  {
   "cell_type": "markdown",
   "id": "9cd678ed",
   "metadata": {},
   "source": [
    "### Рассчёт обращений на этапах -2 рабочих дня\n",
    "\n"
   ]
  },
  {
   "cell_type": "code",
   "execution_count": 24,
   "id": "86c44d49",
   "metadata": {},
   "outputs": [],
   "source": [
    "compliants_not_ready_2_working = compliants_not_ready\n",
    "def the_days_before(compliants_not_ready_2_working):\n",
    "    if today_weekday == 'Monday' or today_weekday == 'Tuesday':\n",
    "        return compliants_not_ready_2_working[~compliants_not_ready[\n",
    "            'Дата запуска процесса'].isin([yesterday, the_day_before_yeasterday, \n",
    "                                           two_days_before_yeasterday,\n",
    "                                           three_days_before_yeasterday])]\n",
    "    else:\n",
    "        return compliants_not_ready_2_working[~compliants_not_ready[\n",
    "                'Дата запуска процесса'].isin([yesterday,the_day_before_yeasterday])]\n",
    "compliants_not_ready_2_working = the_days_before(compliants_not_ready_2_working)\n"
   ]
  },
  {
   "cell_type": "code",
   "execution_count": 25,
   "id": "73dd2261",
   "metadata": {},
   "outputs": [
    {
     "data": {
      "text/html": [
       "<div>\n",
       "<style scoped>\n",
       "    .dataframe tbody tr th:only-of-type {\n",
       "        vertical-align: middle;\n",
       "    }\n",
       "\n",
       "    .dataframe tbody tr th {\n",
       "        vertical-align: top;\n",
       "    }\n",
       "\n",
       "    .dataframe thead th {\n",
       "        text-align: right;\n",
       "    }\n",
       "</style>\n",
       "<table border=\"1\" class=\"dataframe\">\n",
       "  <thead>\n",
       "    <tr style=\"text-align: right;\">\n",
       "      <th></th>\n",
       "      <th>До 3 этапа</th>\n",
       "      <th>3 этап</th>\n",
       "      <th>После 3 этапа</th>\n",
       "    </tr>\n",
       "    <tr>\n",
       "      <th>ЛЦ</th>\n",
       "      <th></th>\n",
       "      <th></th>\n",
       "      <th></th>\n",
       "    </tr>\n",
       "  </thead>\n",
       "  <tbody>\n",
       "    <tr>\n",
       "      <th>Воронеж</th>\n",
       "      <td>51.0</td>\n",
       "      <td>6.0</td>\n",
       "      <td>49.0</td>\n",
       "    </tr>\n",
       "    <tr>\n",
       "      <th>Казань</th>\n",
       "      <td>140.0</td>\n",
       "      <td>8.0</td>\n",
       "      <td>66.0</td>\n",
       "    </tr>\n",
       "    <tr>\n",
       "      <th>Котельники</th>\n",
       "      <td>48.0</td>\n",
       "      <td>53.0</td>\n",
       "      <td>89.0</td>\n",
       "    </tr>\n",
       "    <tr>\n",
       "      <th>МЯ</th>\n",
       "      <td>34.0</td>\n",
       "      <td>4.0</td>\n",
       "      <td>50.0</td>\n",
       "    </tr>\n",
       "    <tr>\n",
       "      <th>Новосибирск</th>\n",
       "      <td>47.0</td>\n",
       "      <td>6.0</td>\n",
       "      <td>40.0</td>\n",
       "    </tr>\n",
       "    <tr>\n",
       "      <th>Ростов</th>\n",
       "      <td>47.0</td>\n",
       "      <td>7.0</td>\n",
       "      <td>64.0</td>\n",
       "    </tr>\n",
       "    <tr>\n",
       "      <th>Самара</th>\n",
       "      <td>87.0</td>\n",
       "      <td>9.0</td>\n",
       "      <td>110.0</td>\n",
       "    </tr>\n",
       "    <tr>\n",
       "      <th>СЗ</th>\n",
       "      <td>136.0</td>\n",
       "      <td>20.0</td>\n",
       "      <td>220.0</td>\n",
       "    </tr>\n",
       "    <tr>\n",
       "      <th>Урал</th>\n",
       "      <td>213.0</td>\n",
       "      <td>25.0</td>\n",
       "      <td>48.0</td>\n",
       "    </tr>\n",
       "    <tr>\n",
       "      <th>ЦПП</th>\n",
       "      <td>9.0</td>\n",
       "      <td>0.0</td>\n",
       "      <td>17.0</td>\n",
       "    </tr>\n",
       "  </tbody>\n",
       "</table>\n",
       "</div>"
      ],
      "text/plain": [
       "             До 3 этапа  3 этап  После 3 этапа\n",
       "ЛЦ                                            \n",
       "Воронеж            51.0     6.0           49.0\n",
       "Казань            140.0     8.0           66.0\n",
       "Котельники         48.0    53.0           89.0\n",
       "МЯ                 34.0     4.0           50.0\n",
       "Новосибирск        47.0     6.0           40.0\n",
       "Ростов             47.0     7.0           64.0\n",
       "Самара             87.0     9.0          110.0\n",
       "СЗ                136.0    20.0          220.0\n",
       "Урал              213.0    25.0           48.0\n",
       "ЦПП                 9.0     0.0           17.0"
      ]
     },
     "execution_count": 25,
     "metadata": {},
     "output_type": "execute_result"
    }
   ],
   "source": [
    "compliants_not_ready_2_working_grouped = compliants_not_ready_2_working.groupby([\"Маркер этапа\",\n",
    "                                                                       \"ЛЦ\"]).size().reset_index(name=\"Count\")\n",
    "pivot_compliants_not_ready_2_working = compliants_not_ready_2_working_grouped.pivot_table(index='Маркер этапа',\n",
    "                                                                      columns='ЛЦ', values='Count', aggfunc='sum')\n",
    "less_than_3_2d = pivot_compliants_not_ready_2_working[pivot_compliants_not_ready_2_working.index < 3][LC].sum()\n",
    "equal_to_3_2d = pivot_compliants_not_ready_2_working[pivot_compliants_not_ready_2_working.index.astype(float) == 3][LC].sum()\n",
    "greater_than_3_2d = pivot_compliants_not_ready_2_working[pivot_compliants_not_ready_2_working.index.astype(float) > 3][LC].sum()\n",
    "complianses_in_process_2d = pd.concat([less_than_3_2d, equal_to_3_2d, greater_than_3_2d], axis=1)\n",
    "complianses_in_process_2d.columns =['До 3 этапа', '3 этап', 'После 3 этапа']\n",
    "complianses_in_process_2d\n"
   ]
  },
  {
   "cell_type": "markdown",
   "id": "eb7250a8",
   "metadata": {},
   "source": [
    "## сохранение в файл информации  по товарным обращениям для отчёта"
   ]
  },
  {
   "cell_type": "code",
   "execution_count": 26,
   "id": "c948ee40",
   "metadata": {},
   "outputs": [],
   "source": [
    "# Транспонирование таблиц\n",
    "complianses_in_process_transposed =np.transpose(complianses_in_process).reset_index()\n",
    "complianses_in_process_2d_transposed = np.transpose(complianses_in_process_2d).reset_index()"
   ]
  },
  {
   "cell_type": "code",
   "execution_count": 27,
   "id": "fdb5689c",
   "metadata": {},
   "outputs": [],
   "source": [
    "compliants_not_ready = compliants_not_ready.drop(['Описание претензии'], axis=1)\n",
    "# Создайте объект ExcelWriter для записи данных в файл Excel\n",
    "writer = pd.ExcelWriter(archive_path_not_ready)\n",
    "# Запишите DataFrame в файл Excel\n",
    "compliants_not_ready.to_excel(writer, sheet_name=f'Не закрытые', index=False)\n",
    "\n",
    "# Сохранение таблицы complianses_in_process_transposed на 1 лист\n",
    "complianses_in_process_transposed.to_excel(writer, sheet_name='В процессе', index=False)\n",
    "\n",
    "# Сохранение таблицы complianses_in_process_2d_transposed на 2 лист\n",
    "complianses_in_process_2d_transposed.to_excel(writer, sheet_name='Не более 2-х раб. дней', index=False)\n",
    "\n",
    "# Сохраните файл Excel\n",
    "writer.save()"
   ]
  },
  {
   "cell_type": "markdown",
   "id": "d915df0f",
   "metadata": {},
   "source": [
    "## Обработка нетоварных обращений\n"
   ]
  },
  {
   "cell_type": "code",
   "execution_count": 28,
   "id": "863e1259",
   "metadata": {},
   "outputs": [],
   "source": [
    "# Подтягиваю лц в датасет\n",
    "def get_lc2(row):\n",
    "    if row['Склад/Офис'] in key_non_marketable:\n",
    "        return key_non_marketable[row['Склад/Офис']]\n",
    "    else:\n",
    "        return None\n",
    "raw_non_marketable['ЛЦ'] = raw_non_marketable.apply(get_lc2, axis=1)\n",
    "raw_non_marketable.insert(20, 'ЛЦ', raw_non_marketable.pop('ЛЦ'))"
   ]
  },
  {
   "cell_type": "code",
   "execution_count": 29,
   "id": "08983e20",
   "metadata": {},
   "outputs": [],
   "source": [
    "# Оставляю только обращения в нужном статусе, удалаю дубликаты\n",
    "right_status = ['Ознакомиться с претензией НОП', 'Ознакомиться с претензией ЦПП']\n",
    "non_marketable_familiarize = raw_non_marketable[raw_non_marketable['Состояние'].isin(right_status)]\n",
    "non_marketable_familiarize.drop_duplicates(subset='Id процесса', keep='first', inplace=True)"
   ]
  },
  {
   "cell_type": "code",
   "execution_count": 30,
   "id": "73636688",
   "metadata": {},
   "outputs": [],
   "source": [
    "# большая и неуклюжая часть кода для анализа информации за выходные дни если сегодня понедельник\n",
    "if today_weekday == 'Monday':\n",
    "    non_marketable_familiarize[\"Дата запуска\"] = pd.to_datetime(\n",
    "    non_marketable_familiarize[\"Дата запуска\"]).dt.date\n",
    "\n",
    "    non_marketable_familiarize[\"Дата ответа\"] = pd.to_datetime(\n",
    "    non_marketable_familiarize[\"Дата ответа\"]).dt.date\n",
    "    \n",
    "    non_marketable_familiarize_created_2yesterday = non_marketable_familiarize[\n",
    "    non_marketable_familiarize['Дата запуска'] == two_days_before_yeasterday ]\n",
    "    non_marketable_familiarize_created_2yesterday_grouped = non_marketable_familiarize_created_2yesterday.groupby(\n",
    "    'ЛЦ')['Дата запуска'].count()\n",
    "    non_marketable_familiarize_closed_2yesterday = non_marketable_familiarize[\n",
    "    non_marketable_familiarize['Дата ответа'] == two_days_before_yeasterday ]\n",
    "    non_marketable_familiarize_closed_2yesterday_grouped = non_marketable_familiarize_closed_2yesterday.groupby(\n",
    "    'ЛЦ')['Дата ответа'].count()\n",
    "    merged_non_marketable_familiarize_2yesterday = pd.concat([\n",
    "    non_marketable_familiarize_created_2yesterday_grouped,\n",
    "    non_marketable_familiarize_closed_2yesterday_grouped], axis=1)\n",
    "    print(merged_non_marketable_familiarize_2yesterday)\n",
    "\n",
    "if today_weekday == 'Monday':\n",
    "    non_marketable_familiarize_created_1yesterday = non_marketable_familiarize[\n",
    "        non_marketable_familiarize['Дата запуска'] == the_day_before_yeasterday ]\n",
    "    non_marketable_familiarize_created_1yesterday_grouped = non_marketable_familiarize_created_1yesterday.groupby(\n",
    "        'ЛЦ')['Дата запуска'].count()\n",
    "    non_marketable_familiarize_closed_1yesterday = non_marketable_familiarize[\n",
    "        non_marketable_familiarize['Дата ответа'] == the_day_before_yeasterday ]\n",
    "    non_marketable_familiarize_closed_1yesterday_grouped = non_marketable_familiarize_closed_1yesterday.groupby(\n",
    "        'ЛЦ')['Дата ответа'].count()\n",
    "    merged_non_marketable_familiarize_1yesterday = pd.concat([\n",
    "        non_marketable_familiarize_created_1yesterday_grouped,\n",
    "        non_marketable_familiarize_closed_1yesterday_grouped], axis=1)\n",
    "    print(merged_non_marketable_familiarize_1yesterday)\n",
    "else:\n",
    "    pass\n",
    "\n"
   ]
  },
  {
   "cell_type": "code",
   "execution_count": 31,
   "id": "5a407fe5",
   "metadata": {},
   "outputs": [],
   "source": [
    "non_marketable_familiarize[\"Дата запуска\"] = pd.to_datetime(\n",
    "    non_marketable_familiarize[\"Дата запуска\"]).dt.date\n",
    "\n",
    "non_marketable_familiarize[\"Дата ответа\"] = pd.to_datetime(\n",
    "    non_marketable_familiarize[\"Дата ответа\"]).dt.date\n",
    "\n",
    "non_marketable_familiarize_created_yesterday = non_marketable_familiarize[\n",
    "    non_marketable_familiarize['Дата запуска'] == yesterday]\n",
    "non_marketable_familiarize_created_yesterday_grouped = non_marketable_familiarize_created_yesterday.groupby(\n",
    "    'ЛЦ')['Дата запуска'].count()\n"
   ]
  },
  {
   "cell_type": "code",
   "execution_count": 32,
   "id": "01785745",
   "metadata": {},
   "outputs": [],
   "source": [
    "# Количество запущенных и закрытых нетоварных обращений\n",
    "non_marketable_familiarize_closed_yesterday = non_marketable_familiarize[\n",
    "    non_marketable_familiarize['Дата ответа'] == yesterday]\n",
    "non_marketable_familiarize_closed_yesterday_grouped = non_marketable_familiarize_closed_yesterday.groupby(\n",
    "    'ЛЦ')['Дата ответа'].count()"
   ]
  },
  {
   "cell_type": "code",
   "execution_count": 33,
   "id": "ebade370",
   "metadata": {},
   "outputs": [
    {
     "data": {
      "text/html": [
       "<div>\n",
       "<style scoped>\n",
       "    .dataframe tbody tr th:only-of-type {\n",
       "        vertical-align: middle;\n",
       "    }\n",
       "\n",
       "    .dataframe tbody tr th {\n",
       "        vertical-align: top;\n",
       "    }\n",
       "\n",
       "    .dataframe thead th {\n",
       "        text-align: right;\n",
       "    }\n",
       "</style>\n",
       "<table border=\"1\" class=\"dataframe\">\n",
       "  <thead>\n",
       "    <tr style=\"text-align: right;\">\n",
       "      <th></th>\n",
       "      <th>Запущено обращений 2023-11-07</th>\n",
       "      <th>Получен ответ 2023-11-07</th>\n",
       "    </tr>\n",
       "    <tr>\n",
       "      <th>ЛЦ</th>\n",
       "      <th></th>\n",
       "      <th></th>\n",
       "    </tr>\n",
       "  </thead>\n",
       "  <tbody>\n",
       "    <tr>\n",
       "      <th>Воронеж</th>\n",
       "      <td>10</td>\n",
       "      <td>7</td>\n",
       "    </tr>\n",
       "    <tr>\n",
       "      <th>Казань</th>\n",
       "      <td>9</td>\n",
       "      <td>5</td>\n",
       "    </tr>\n",
       "    <tr>\n",
       "      <th>Котельники</th>\n",
       "      <td>7</td>\n",
       "      <td>6</td>\n",
       "    </tr>\n",
       "    <tr>\n",
       "      <th>МЯ</th>\n",
       "      <td>4</td>\n",
       "      <td>3</td>\n",
       "    </tr>\n",
       "    <tr>\n",
       "      <th>Новосибирск</th>\n",
       "      <td>3</td>\n",
       "      <td>1</td>\n",
       "    </tr>\n",
       "    <tr>\n",
       "      <th>Ростов</th>\n",
       "      <td>5</td>\n",
       "      <td>5</td>\n",
       "    </tr>\n",
       "    <tr>\n",
       "      <th>СЗ</th>\n",
       "      <td>12</td>\n",
       "      <td>16</td>\n",
       "    </tr>\n",
       "    <tr>\n",
       "      <th>Самара</th>\n",
       "      <td>6</td>\n",
       "      <td>8</td>\n",
       "    </tr>\n",
       "    <tr>\n",
       "      <th>Урал</th>\n",
       "      <td>9</td>\n",
       "      <td>12</td>\n",
       "    </tr>\n",
       "    <tr>\n",
       "      <th>ЦПП</th>\n",
       "      <td>4</td>\n",
       "      <td>4</td>\n",
       "    </tr>\n",
       "  </tbody>\n",
       "</table>\n",
       "</div>"
      ],
      "text/plain": [
       "             Запущено обращений 2023-11-07  Получен ответ 2023-11-07\n",
       "ЛЦ                                                                  \n",
       "Воронеж                                 10                         7\n",
       "Казань                                   9                         5\n",
       "Котельники                               7                         6\n",
       "МЯ                                       4                         3\n",
       "Новосибирск                              3                         1\n",
       "Ростов                                   5                         5\n",
       "СЗ                                      12                        16\n",
       "Самара                                   6                         8\n",
       "Урал                                     9                        12\n",
       "ЦПП                                      4                         4"
      ]
     },
     "execution_count": 33,
     "metadata": {},
     "output_type": "execute_result"
    }
   ],
   "source": [
    "merged_non_marketable_familiarize_yesterday = pd.concat([\n",
    "    non_marketable_familiarize_created_yesterday_grouped,\n",
    "    non_marketable_familiarize_closed_yesterday_grouped], axis=1)\n",
    "merged_non_marketable_familiarize_yesterday = merged_non_marketable_familiarize_yesterday.rename(columns={'Дата запуска': f'Запущено обращений {yesterday}',\n",
    "                                         'Дата ответа': f'Получен ответ {yesterday}'})\n",
    "merged_non_marketable_familiarize_yesterday"
   ]
  },
  {
   "cell_type": "code",
   "execution_count": 34,
   "id": "f11d9b21",
   "metadata": {},
   "outputs": [
    {
     "name": "stdout",
     "output_type": "stream",
     "text": [
      "Всего запущено обращений за 2023-11-07: 69 \n",
      "Всего закрыто обращений за 2023-11-07: 67 \n",
      "Коэффециент отработки нетоварных обращений по сети за  2023-11-07: 0.97 \n"
     ]
    }
   ],
   "source": [
    "column_open_nonmarketable = \"Запущено обращений \" + str(yesterday)\n",
    "column_closed_nonmarketable = \"Получен ответ \" + str(yesterday)\n",
    "\n",
    "print(f\"Всего запущено обращений за {yesterday}: {merged_non_marketable_familiarize_yesterday.reset_index().sum()[column_open_nonmarketable]} \")\n",
    "print(f\"Всего закрыто обращений за {yesterday}: {merged_non_marketable_familiarize_yesterday.reset_index().sum()[column_closed_nonmarketable]} \")\n",
    "print(f\"Коэффециент отработки нетоварных обращений по сети за  {yesterday}: {round(merged_non_marketable_familiarize_yesterday.reset_index().sum()[column_closed_nonmarketable]/merged_non_marketable_familiarize_yesterday.reset_index().sum()[column_open_nonmarketable], 2)} \")"
   ]
  },
  {
   "cell_type": "markdown",
   "id": "34b60411",
   "metadata": {},
   "source": [
    "### Сохранение исходника нетоварных обращений"
   ]
  },
  {
   "cell_type": "code",
   "execution_count": 35,
   "id": "749552b7",
   "metadata": {},
   "outputs": [],
   "source": [
    "# нужен отдельным файлом для отправки руководителям\n",
    "non_marketable_for_report = non_marketable_familiarize[pd.isnull(non_marketable_familiarize['Дата закрытия текущего этапа'])]\n",
    "non_marketable_for_report = non_marketable_for_report.sort_values(['Дата запуска'], ascending=True)"
   ]
  },
  {
   "cell_type": "code",
   "execution_count": 36,
   "id": "d3d24cd8",
   "metadata": {},
   "outputs": [],
   "source": [
    "\n",
    "# Объект ExcelWriter \n",
    "writer2 = pd.ExcelWriter(archive_path_not_ready_non_marketable)\n",
    "# Запись\n",
    "non_marketable_for_report.to_excel(writer2, sheet_name=f'Не закрытые', index=False)\n",
    "\n",
    "# Сохранение\n",
    "writer2.save()"
   ]
  },
  {
   "cell_type": "markdown",
   "id": "d0f4ea5b",
   "metadata": {},
   "source": [
    "## Итоговые данные"
   ]
  },
  {
   "cell_type": "code",
   "execution_count": 37,
   "id": "25002fe6",
   "metadata": {
    "scrolled": true
   },
   "outputs": [
    {
     "data": {
      "image/png": "[encoded data removed]",
      "text/plain": [
       "<Figure size 2000x500 with 1 Axes>"
      ]
     },
     "metadata": {},
     "output_type": "display_data"
    }
   ],
   "source": [
    "greated_closed_graph = created_closed_yesterday.reset_index()\n",
    "\n",
    "plt.figure(figsize=(20,5))\n",
    "\n",
    "ax = sn.barplot(data=greated_closed_graph, x='ЛЦ', y=f\"Запущено обращений {yesterday}\", color='blue')\n",
    "sn.barplot(data=greated_closed_graph, x='ЛЦ', y=f\"Закрыто обращений {yesterday}\", color='red')\n",
    "plt.xticks(rotation=45)\n",
    "ax.set_xticklabels(ax.get_xticklabels(), fontsize=14)\n",
    "plt.title('Запущено и закрыто обращений')\n",
    "plt.xlabel('ЛЦ')\n",
    "plt.ylabel('Кол-во строк')\n",
    "plt.legend(['Запущено', 'Закрыто'])\n",
    "plt.show()\n"
   ]
  },
  {
   "cell_type": "markdown",
   "id": "95aa75d5",
   "metadata": {},
   "source": [
    " Наличие  синего цвета в столбцах графика указывает на то, что было запущено больше обращений чем закрыто."
   ]
  },
  {
   "cell_type": "code",
   "execution_count": 38,
   "id": "5a0cbd32",
   "metadata": {},
   "outputs": [
    {
     "name": "stdout",
     "output_type": "stream",
     "text": [
      "Всего запущено рекламаций за 2023-11-07: 995 \n",
      "Всего закрыто орекламаций за 2023-11-07: 983 \n",
      "Коэффециент отработки рекламаций по сети за  2023-11-07: 0.99 \n",
      "Всего запущено обращений за 2023-11-07: 69 \n",
      "Всего закрыто обращений за 2023-11-07: 67 \n",
      "Коэффециент отработки нетоварных обращений по сети за  2023-11-07: 0.97 \n"
     ]
    }
   ],
   "source": [
    "print(f\"Всего запущено рекламаций за {yesterday}: {created_closed_yesterday.reset_index().sum()[column_open]} \")\n",
    "print(f\"Всего закрыто орекламаций за {yesterday}: {created_closed_yesterday.reset_index().sum()[column_closed ]} \")\n",
    "print(f\"Коэффециент отработки рекламаций по сети за  {yesterday}: {round(created_closed_yesterday.reset_index().sum()[column_closed ] / created_closed_yesterday.reset_index().sum()[column_open], 2)} \")\n",
    "print(f\"Всего запущено обращений за {yesterday}: {merged_non_marketable_familiarize_yesterday.reset_index().sum()[column_open_nonmarketable]} \")\n",
    "print(f\"Всего закрыто обращений за {yesterday}: {merged_non_marketable_familiarize_yesterday.reset_index().sum()[column_closed_nonmarketable]} \")\n",
    "print(f\"Коэффециент отработки нетоварных обращений по сети за  {yesterday}: {round(merged_non_marketable_familiarize_yesterday.reset_index().sum()[column_closed_nonmarketable]/merged_non_marketable_familiarize_yesterday.reset_index().sum()[column_open_nonmarketable], 2)} \")"
   ]
  },
  {
   "cell_type": "code",
   "execution_count": null,
   "id": "847154d3",
   "metadata": {},
   "outputs": [],
   "source": []
  }
 ],
 "metadata": {
  "kernelspec": {
   "display_name": "Python 3 (ipykernel)",
   "language": "python",
   "name": "python3"
  },
  "language_info": {
   "codemirror_mode": {
    "name": "ipython",
    "version": 3
   },
   "file_extension": ".py",
   "mimetype": "text/x-python",
   "name": "python",
   "nbconvert_exporter": "python",
   "pygments_lexer": "ipython3",
   "version": "3.10.9"
  },
  "toc": {
   "base_numbering": 1,
   "nav_menu": {},
   "number_sections": true,
   "sideBar": true,
   "skip_h1_title": false,
   "title_cell": "Table of Contents",
   "title_sidebar": "Contents",
   "toc_cell": false,
   "toc_position": {
    "height": "calc(100% - 180px)",
    "left": "10px",
    "top": "150px",
    "width": "443.767px"
   },
   "toc_section_display": true,
   "toc_window_display": true
  }
 },
 "nbformat": 4,
 "nbformat_minor": 5
}
