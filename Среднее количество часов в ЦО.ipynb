{
 "cells": [
  {
   "cell_type": "code",
   "execution_count": 1,
   "id": "199363bb",
   "metadata": {},
   "outputs": [],
   "source": [
    "import pandas as pd\n",
    "import numpy as np\n",
    "import datetime as dt\n",
    "from datetime import datetime\n",
    "from IPython.display import display\n",
    "import matplotlib.pyplot as plt\n",
    "import seaborn as sn\n",
    "import warnings\n",
    "from business_duration import businessDuration\n",
    "import holidays as hd\n",
    "import business_duration as bd\n",
    "from datetime import time"
   ]
  },
  {
   "cell_type": "code",
   "execution_count": null,
   "id": "92572476",
   "metadata": {},
   "outputs": [],
   "source": []
  },
  {
   "cell_type": "code",
   "execution_count": 2,
   "id": "37749d5e",
   "metadata": {},
   "outputs": [],
   "source": [
    "pd.set_option('display.max_columns', None)\n",
    "pd.options.display.float_format ='{:.2f}'.format\n",
    "warnings.filterwarnings(\"ignore\")"
   ]
  },
  {
   "cell_type": "markdown",
   "id": "8997726c",
   "metadata": {},
   "source": [
    "# Вспомогательные"
   ]
  },
  {
   "cell_type": "code",
   "execution_count": 3,
   "id": "33c6f227",
   "metadata": {},
   "outputs": [],
   "source": [
    "# Сегодняшний день\n",
    "today = dt.date.today()\n",
    "# сейвер\n",
    "archive_path_final_result =f\"C:\\\\Users\\\\rassadin_mi\\\\Desktop\\\\автоматизация отчёт ЦО\\\\Среднее кол-во часов отработки в ЦО\\\\Архив\\\\{today} Среднее время.xlsx\""
   ]
  },
  {
   "cell_type": "markdown",
   "id": "964ed415",
   "metadata": {},
   "source": [
    "## Даты отчёта"
   ]
  },
  {
   "cell_type": "code",
   "execution_count": 4,
   "id": "8c9913ac",
   "metadata": {},
   "outputs": [],
   "source": [
    "start_date = pd.to_datetime('2023-09-01')\n",
    "end_date = pd.to_datetime('2023-09-24')"
   ]
  },
  {
   "cell_type": "markdown",
   "id": "1ff61786",
   "metadata": {},
   "source": [
    "# Загрузка исходников"
   ]
  },
  {
   "cell_type": "code",
   "execution_count": 5,
   "id": "f1b62f2f",
   "metadata": {},
   "outputs": [],
   "source": [
    "raw_complaints = pd.read_csv(\"C:\\\\Users\\\\rassadin_mi\\\\Desktop\\\\автоматизация отчёт ЦО\\\\отчёт по ЦО\\\\xxx.csv\",\n",
    "                             encoding='utf-8', dtype={'Описание претензии': str}, sep=';')\n",
    "raw_complaints_lines = pd.read_csv(\"C:\\\\Users\\\\rassadin_mi\\\\Desktop\\\\автоматизация отчёт ЦО\\\\отчёт по ЦО\\\\yyy.csv\",\n",
    "                                   encoding='utf-8', dtype={'Описание претензии': str}, low_memory=False, sep=';')\n",
    "\n",
    "VPR_office = pd.read_excel(\"C:\\\\Users\\\\rassadin_mi\\\\Desktop\\\\автоматизация отчёт ЦО\\\\отчёт по ЦО\\\\ВПР\\\\ВПР офис-ЛЦ.xlsx\")\n",
    "office_dict = dict(zip(VPR_office['Текст'], VPR_office['Значение']))\n",
    "\n",
    "VPR_class_71_51 = pd.read_excel(\"C:\\\\Users\\\\rassadin_mi\\\\Desktop\\\\автоматизация отчёт ЦО\\\\отчёт по ЦО\\\\ВПР\\\\ВПР класс 71 51.xlsx\")\n",
    "class_dict = dict(zip(VPR_class_71_51['Текст'], VPR_class_71_51['Значение']))\n",
    "\n",
    "VPR_executor_office = pd.read_excel(\"C:\\\\Users\\\\rassadin_mi\\\\Desktop\\\\автоматизация отчёт ЦО\\\\отчёт по ЦО\\\\ВПР\\\\ВПР должность-офис2.xlsx\")\n",
    "executor_office = dict(zip(VPR_executor_office['Текст'], VPR_executor_office['Значение']))\n",
    "\n",
    "VRP_office_RK = pd.read_excel(\"C:\\\\Users\\\\rassadin_mi\\\\Desktop\\\\автоматизация отчёт ЦО\\\\отчёт по ЦО\\\\ВПР\\\\ВПР офис РК.xlsx\")\n",
    "executor_RK = dict(zip(VRP_office_RK['Текст'], VRP_office_RK['Значение']))\n",
    "\n",
    "\n",
    "VRP_report_name = pd.read_excel(\"C:\\\\Users\\\\rassadin_mi\\\\Desktop\\\\автоматизация отчёт ЦО\\\\отчёт по ЦО\\\\ВПР\\\\ВПР отчёты.xlsx\")\n",
    "report_name = dict(zip(VRP_report_name['Этапы'], VRP_report_name['Наименование отчета']))"
   ]
  },
  {
   "cell_type": "markdown",
   "id": "12cd17ee",
   "metadata": {},
   "source": [
    "# Основная часть"
   ]
  },
  {
   "cell_type": "code",
   "execution_count": 6,
   "id": "19fb1fdf",
   "metadata": {},
   "outputs": [],
   "source": [
    "# Преобразование форматов времени рекламаций\n",
    "# Преобразование форматов времени\n",
    "raw_complaints[['Дата запуска процесса', \n",
    "                'Дата завершения процесса']] = raw_complaints[[\n",
    "                'Дата запуска процесса', \n",
    "                'Дата завершения процесса']].apply(pd.to_datetime)\n",
    "raw_complaints['Дата запуска текущего этапа'] = pd.to_datetime(\n",
    "    raw_complaints['Дата запуска текущего этапа'], format='%d.%m.%Y %H:%M:%S')\n",
    "\n",
    "raw_complaints_lines[['Дата запуска процесса',\n",
    "                      'Дата завершения процесса']] = raw_complaints_lines[[\n",
    "                      'Дата запуска процесса',\n",
    "                      'Дата завершения процесса']].apply(pd.to_datetime)\n",
    "raw_complaints_lines['Дата запуска текущего этапа'] = pd.to_datetime(\n",
    "    raw_complaints_lines['Дата запуска текущего этапа'], format='%d.%m.%Y %H:%M:%S')"
   ]
  },
  {
   "cell_type": "code",
   "execution_count": 7,
   "id": "2fc70c5c",
   "metadata": {},
   "outputs": [],
   "source": [
    "# cортирую по убыванию количества часов , чтобы оставить бОльшие значения при дропе дубликатов\n",
    "raw_complaints = raw_complaints.sort_values(['Количество часов отработки этапа процесса'], ascending=False)\n",
    "raw_complaints.drop_duplicates(subset=['Id процесса','Текущий этап'],\n",
    "                                                          keep='first', inplace=True)\n",
    "complaints_no_duplicates = raw_complaints.drop(['Результат Возврата Товара','Результат Замены Довоза'], axis=1)"
   ]
  },
  {
   "cell_type": "code",
   "execution_count": 8,
   "id": "7309f455",
   "metadata": {},
   "outputs": [],
   "source": [
    "raw_complaints_lines = raw_complaints_lines.sort_values(['Количество часов отработки этапа процесса'], ascending=False)\n",
    "raw_complaints_lines.drop_duplicates(subset=['Id процесса','Должность исполнителя этапа', 'Текущий этап'],\n",
    "                                                          keep='first', inplace=True)\n",
    "compliants_lines_no_duplicates = raw_complaints_lines.drop(['Решение','Описание','Комментарий','Производитель',\n",
    "                                                'Код производителя','Код товара','Описание товара',\n",
    "                                                'Класс 33','Цена за ед. измерения без НДС', 'Id процесса',\n",
    "                                                            'Кол-во товара', 'Уход', 'Результат возврата/обмена/довоза',\n",
    "                                                           'Ожидает ответа поставщика', 'ФИО сотр. допуст. ошибку',\n",
    "                                                           'Должн. сотр. допуст. ошибку', 'Описание ошибки',\n",
    "                                                            'Кто определил допуст. ошибку'], axis=1)\n",
    "compliants_lines_no_duplicates = compliants_lines_no_duplicates.rename(columns={'Id родительского процесса':'Id процесса'})"
   ]
  },
  {
   "cell_type": "code",
   "execution_count": 9,
   "id": "9a63e9e8",
   "metadata": {},
   "outputs": [
    {
     "data": {
      "text/plain": [
       "254023"
      ]
     },
     "execution_count": 9,
     "metadata": {},
     "output_type": "execute_result"
    }
   ],
   "source": [
    "len(compliants_lines_no_duplicates)"
   ]
  },
  {
   "cell_type": "code",
   "execution_count": 10,
   "id": "03c54776",
   "metadata": {},
   "outputs": [
    {
     "data": {
      "text/plain": [
       "264284"
      ]
     },
     "execution_count": 10,
     "metadata": {},
     "output_type": "execute_result"
    }
   ],
   "source": [
    "len(complaints_no_duplicates)"
   ]
  },
  {
   "cell_type": "code",
   "execution_count": 11,
   "id": "fc4f51ab",
   "metadata": {},
   "outputs": [
    {
     "data": {
      "text/plain": [
       "518307"
      ]
     },
     "execution_count": 11,
     "metadata": {},
     "output_type": "execute_result"
    }
   ],
   "source": [
    "# сличяние построчного и рабочего\n",
    "merged_compliants = pd.concat([compliants_lines_no_duplicates, complaints_no_duplicates], ignore_index=True)\n",
    "len(merged_compliants)"
   ]
  },
  {
   "cell_type": "code",
   "execution_count": 12,
   "id": "9a629f76",
   "metadata": {},
   "outputs": [],
   "source": [
    "# Верный промежуток дат\n",
    "merged_compliants = merged_compliants.query('`Дата завершения процесса` >= @start_date and `Дата завершения процесса` <= @end_date' )\n",
    "# Верный этап\n",
    "merged_compliants = merged_compliants.query('`Текущий этап` != [\"Таймер\",\"Этап автосогласования\"]')"
   ]
  },
  {
   "cell_type": "code",
   "execution_count": 13,
   "id": "77754a89",
   "metadata": {},
   "outputs": [
    {
     "data": {
      "text/plain": [
       "54440"
      ]
     },
     "execution_count": 13,
     "metadata": {},
     "output_type": "execute_result"
    }
   ],
   "source": [
    "len(merged_compliants)"
   ]
  },
  {
   "cell_type": "code",
   "execution_count": 14,
   "id": "b4bc94e4",
   "metadata": {},
   "outputs": [],
   "source": [
    "def get_LC(row):\n",
    "    if row['ОП по складу'] in office_dict:\n",
    "        return office_dict[row['ОП по складу']]\n",
    "       \n",
    "def class71(row):\n",
    "    if row['Класс 71'] in class_dict :\n",
    "        return class_dict[row['Класс 71']]\n",
    "    else:\n",
    "        return 'не указано'\n",
    "    \n",
    "def class55(row):\n",
    "    if row['Класс 55'] in class_dict:\n",
    "        return class_dict[row['Класс 55']]    \n",
    "    else:\n",
    "        return 'не указано'\n",
    "    \n",
    "def get_office(row):\n",
    "    if row['Должность исполнителя этапа'] in executor_office:\n",
    "        return executor_office[row['Должность исполнителя этапа']]\n",
    "    else:\n",
    "        return row['ОП по складу']\n",
    "    \n",
    "def get_RK(row):\n",
    "    if row['Офис исполнителя этапа'] in executor_RK:\n",
    "        return executor_RK[row['Офис исполнителя этапа']]\n",
    "\n",
    "def report(row):\n",
    "    if row['Текущий этап'] in report_name:\n",
    "        return report_name[row['Текущий этап']]\n",
    "    else:\n",
    "        return 'не указано'"
   ]
  },
  {
   "cell_type": "code",
   "execution_count": 15,
   "id": "a26b6358",
   "metadata": {},
   "outputs": [],
   "source": [
    "merged_compliants['ЛЦ по складу'] = merged_compliants.apply(get_LC, axis=1)\n",
    "merged_compliants['Класс 71.'] = merged_compliants.apply(class71, axis=1)\n",
    "merged_compliants['Класс 55.'] = merged_compliants.apply(class55, axis=1)\n",
    "merged_compliants['Офис исполнителя этапа'] = merged_compliants.apply(get_office, axis=1)\n",
    "merged_compliants['РК'] = merged_compliants.apply(get_RK, axis=1)\n",
    "merged_compliants['Отчёт'] = merged_compliants.apply(report, axis=1)"
   ]
  },
  {
   "cell_type": "code",
   "execution_count": 16,
   "id": "ab44a0b2",
   "metadata": {},
   "outputs": [
    {
     "data": {
      "text/plain": [
       "54440"
      ]
     },
     "execution_count": 16,
     "metadata": {},
     "output_type": "execute_result"
    }
   ],
   "source": [
    "len(merged_compliants)"
   ]
  },
  {
   "cell_type": "code",
   "execution_count": 17,
   "id": "1e9a4ed2",
   "metadata": {},
   "outputs": [
    {
     "name": "stdout",
     "output_type": "stream",
     "text": [
      "<class 'pandas.core.frame.DataFrame'>\n",
      "Int64Index: 54440 entries, 5 to 518275\n",
      "Data columns (total 29 columns):\n",
      " #   Column                                     Non-Null Count  Dtype         \n",
      "---  ------                                     --------------  -----         \n",
      " 0   Id процесса                                54440 non-null  int64         \n",
      " 1   РК по документу                            54440 non-null  object        \n",
      " 2   ОП по складу                               54440 non-null  object        \n",
      " 3   Номер документа                            54440 non-null  object        \n",
      " 4   Код к/а                                    54440 non-null  int64         \n",
      " 5   Название к/а                               54440 non-null  object        \n",
      " 6   ФИО к/а                                    38708 non-null  object        \n",
      " 7   Телефон к/а                                33576 non-null  object        \n",
      " 8   Класс 71                                   54411 non-null  object        \n",
      " 9   Класс 72                                   52415 non-null  object        \n",
      " 10  Менеджер из документа                      54440 non-null  object        \n",
      " 11  Должность менеджера из документа           54315 non-null  object        \n",
      " 12  Класс 55                                   54006 non-null  object        \n",
      " 13  РК исполнителя этапа                       46577 non-null  object        \n",
      " 14  Должность исполнителя этапа                53663 non-null  object        \n",
      " 15  Описание претензии                         54440 non-null  object        \n",
      " 16  Исполнитель текущего этапа                 54440 non-null  object        \n",
      " 17  Текущий этап                               54440 non-null  object        \n",
      " 18  Дата запуска процесса                      54440 non-null  datetime64[ns]\n",
      " 19  Дата завершения процесса                   54440 non-null  datetime64[ns]\n",
      " 20  Количество дней работы процесса            54440 non-null  int64         \n",
      " 21  Дата запуска текущего этапа                54440 non-null  datetime64[ns]\n",
      " 22  Количество часов отработки этапа процесса  54440 non-null  int64         \n",
      " 23  ЛЦ по складу                               54440 non-null  object        \n",
      " 24  Класс 71.                                  54440 non-null  object        \n",
      " 25  Класс 55.                                  54440 non-null  object        \n",
      " 26  Офис исполнителя этапа                     54440 non-null  object        \n",
      " 27  РК                                         54440 non-null  object        \n",
      " 28  Отчёт                                      54440 non-null  object        \n",
      "dtypes: datetime64[ns](3), int64(4), object(22)\n",
      "memory usage: 12.5+ MB\n"
     ]
    }
   ],
   "source": [
    "merged_compliants.info()"
   ]
  },
  {
   "cell_type": "code",
   "execution_count": 18,
   "id": "4a68167a",
   "metadata": {},
   "outputs": [],
   "source": [
    "merged_compliants['Дата завершения текущего этапа'] = merged_compliants[\n",
    "    'Дата запуска текущего этапа'] + pd.to_timedelta(merged_compliants[\n",
    "    'Количество часов отработки этапа процесса'], unit='h')"
   ]
  },
  {
   "cell_type": "code",
   "execution_count": 19,
   "id": "50d894eb",
   "metadata": {},
   "outputs": [
    {
     "data": {
      "text/html": [
       "<div>\n",
       "<style scoped>\n",
       "    .dataframe tbody tr th:only-of-type {\n",
       "        vertical-align: middle;\n",
       "    }\n",
       "\n",
       "    .dataframe tbody tr th {\n",
       "        vertical-align: top;\n",
       "    }\n",
       "\n",
       "    .dataframe thead th {\n",
       "        text-align: right;\n",
       "    }\n",
       "</style>\n",
       "<table border=\"1\" class=\"dataframe\">\n",
       "  <thead>\n",
       "    <tr style=\"text-align: right;\">\n",
       "      <th></th>\n",
       "      <th>Id процесса</th>\n",
       "      <th>РК по документу</th>\n",
       "      <th>ОП по складу</th>\n",
       "      <th>Номер документа</th>\n",
       "      <th>Код к/а</th>\n",
       "      <th>Название к/а</th>\n",
       "      <th>ФИО к/а</th>\n",
       "      <th>Телефон к/а</th>\n",
       "      <th>Класс 71</th>\n",
       "      <th>Класс 72</th>\n",
       "      <th>Менеджер из документа</th>\n",
       "      <th>Должность менеджера из документа</th>\n",
       "      <th>Класс 55</th>\n",
       "      <th>РК исполнителя этапа</th>\n",
       "      <th>Должность исполнителя этапа</th>\n",
       "      <th>Описание претензии</th>\n",
       "      <th>Исполнитель текущего этапа</th>\n",
       "      <th>Текущий этап</th>\n",
       "      <th>Дата запуска процесса</th>\n",
       "      <th>Дата завершения процесса</th>\n",
       "      <th>Количество дней работы процесса</th>\n",
       "      <th>Дата запуска текущего этапа</th>\n",
       "      <th>Количество часов отработки этапа процесса</th>\n",
       "      <th>ЛЦ по складу</th>\n",
       "      <th>Класс 71.</th>\n",
       "      <th>Класс 55.</th>\n",
       "      <th>Офис исполнителя этапа</th>\n",
       "      <th>РК</th>\n",
       "      <th>Отчёт</th>\n",
       "      <th>Дата завершения текущего этапа</th>\n",
       "      <th>Количество рабочих часов</th>\n",
       "    </tr>\n",
       "  </thead>\n",
       "  <tbody>\n",
       "    <tr>\n",
       "      <th>5</th>\n",
       "      <td>2372342</td>\n",
       "      <td>Директор по продажам 2 РЦ Урал,Директор по про...</td>\n",
       "      <td>Нижний Тагил ОП1</td>\n",
       "      <td>509/138822-1</td>\n",
       "      <td>1219011</td>\n",
       "      <td>ЭЛЕКТРОМОНТАЖ ПКФ</td>\n",
       "      <td>NaN</td>\n",
       "      <td>NaN</td>\n",
       "      <td>0d4</td>\n",
       "      <td>~A</td>\n",
       "      <td>Саканцева Татьяна</td>\n",
       "      <td>Сотрудник ОП1 Н.Тагил</td>\n",
       "      <td>Э</td>\n",
       "      <td>Инженер по работе с рекламациями ЛЦ Екатеринбург</td>\n",
       "      <td>Инженер по работе с рекламациями ЛЦ Екатеринбург</td>\n",
       "      <td>Бракованная или некомплектная продукция</td>\n",
       "      <td>Говейлер Ирина</td>\n",
       "      <td>Ожидание ответа поставщика МРР (товар отправле...</td>\n",
       "      <td>2023-03-27</td>\n",
       "      <td>2023-09-06</td>\n",
       "      <td>163</td>\n",
       "      <td>2023-04-12 15:00:37</td>\n",
       "      <td>3526</td>\n",
       "      <td>Урал</td>\n",
       "      <td>Электромонтажные организации</td>\n",
       "      <td>менеджер по работе со строительными и электром...</td>\n",
       "      <td>ЛЦ Екатеринбург</td>\n",
       "      <td>УК</td>\n",
       "      <td>этап зависит от поставика</td>\n",
       "      <td>2023-09-06 13:00:37</td>\n",
       "      <td>907.00</td>\n",
       "    </tr>\n",
       "  </tbody>\n",
       "</table>\n",
       "</div>"
      ],
      "text/plain": [
       "   Id процесса                                    РК по документу  \\\n",
       "5      2372342  Директор по продажам 2 РЦ Урал,Директор по про...   \n",
       "\n",
       "       ОП по складу Номер документа  Код к/а       Название к/а ФИО к/а  \\\n",
       "5  Нижний Тагил ОП1    509/138822-1  1219011  ЭЛЕКТРОМОНТАЖ ПКФ     NaN   \n",
       "\n",
       "  Телефон к/а Класс 71 Класс 72 Менеджер из документа  \\\n",
       "5         NaN      0d4       ~A     Саканцева Татьяна   \n",
       "\n",
       "  Должность менеджера из документа Класс 55  \\\n",
       "5            Сотрудник ОП1 Н.Тагил        Э   \n",
       "\n",
       "                               РК исполнителя этапа  \\\n",
       "5  Инженер по работе с рекламациями ЛЦ Екатеринбург   \n",
       "\n",
       "                        Должность исполнителя этапа  \\\n",
       "5  Инженер по работе с рекламациями ЛЦ Екатеринбург   \n",
       "\n",
       "                        Описание претензии Исполнитель текущего этапа  \\\n",
       "5  Бракованная или некомплектная продукция             Говейлер Ирина   \n",
       "\n",
       "                                        Текущий этап Дата запуска процесса  \\\n",
       "5  Ожидание ответа поставщика МРР (товар отправле...            2023-03-27   \n",
       "\n",
       "  Дата завершения процесса  Количество дней работы процесса  \\\n",
       "5               2023-09-06                              163   \n",
       "\n",
       "  Дата запуска текущего этапа  Количество часов отработки этапа процесса  \\\n",
       "5         2023-04-12 15:00:37                                       3526   \n",
       "\n",
       "  ЛЦ по складу                     Класс 71.  \\\n",
       "5         Урал  Электромонтажные организации   \n",
       "\n",
       "                                           Класс 55. Офис исполнителя этапа  \\\n",
       "5  менеджер по работе со строительными и электром...        ЛЦ Екатеринбург   \n",
       "\n",
       "   РК                      Отчёт Дата завершения текущего этапа  \\\n",
       "5  УК  этап зависит от поставика            2023-09-06 13:00:37   \n",
       "\n",
       "  Количество рабочих часов  \n",
       "5                   907.00  "
      ]
     },
     "execution_count": 19,
     "metadata": {},
     "output_type": "execute_result"
    }
   ],
   "source": [
    "# список праздников\n",
    "holidays_2023 = {datetime(2023,1,1).date():\"New Year Holidays\",\n",
    "                 datetime(2023,1,2).date():\"New Year Holidays\",\n",
    "                 datetime(2023,1,3).date():\"New Year Holidays\",\n",
    "                 datetime(2018,1,4).date():\"New Year Holidays\",\n",
    "                 datetime(2018,1,5).date():\"New Year Holidays\",\n",
    "                 datetime(2023,1,6).date():\"New Year Holidays\",\n",
    "                 datetime(2023,1,8).date():\"New Year Holidays\",\n",
    "                 datetime(2023,1,7).date():\"Christmas\",\n",
    "                 datetime(2023,2,23).date():\"Motherland protector`s day\",\n",
    "                 datetime(2023,2,24).date():\"Motherland protector`s day\",\n",
    "                 datetime(2023,3,8).date():\"Woomen day\",\n",
    "                 datetime(2023,5,1).date():\"Spring and labor day\",\n",
    "                 datetime(2023,5,9).date():\"Victory day\",\n",
    "                 datetime(2023,5,8).date():\"Victory day\",\n",
    "                 datetime(2023,6,12).date():\"The day of Russia\",\n",
    "                 datetime(2023,11,4).date():\"Day of i dont know whats is it\",\n",
    "                }\n",
    "\n",
    "\n",
    "\n",
    "# подсчёт рабочих часов между двумя датами\n",
    "def workin_hours(data):\n",
    "    starttime=time(9,0,0)\n",
    "    endtime=time(18,0,0)\n",
    "    unit='hour'\n",
    "    # сюда ещё нужно добавить holidays - атрибут для \n",
    "    data['Количество рабочих часов'] = ''\n",
    "    for index, row in data.iterrows():\n",
    "        data.at[index, 'Количество рабочих часов'] = businessDuration(data.at[index, 'Дата запуска текущего этапа'],\n",
    "                                                               data.at[index, 'Дата завершения текущего этапа'],\n",
    "                                                               starttime,endtime,unit=unit, \n",
    "                                                                holidaylist=holidays_2023)\n",
    "    return data\n",
    "\n",
    "workin_hours(merged_compliants)\n",
    "merged_compliants.head(1)"
   ]
  },
  {
   "cell_type": "code",
   "execution_count": 20,
   "id": "d8cec971",
   "metadata": {},
   "outputs": [
    {
     "data": {
      "text/plain": [
       "336698.4077777802"
      ]
     },
     "execution_count": 20,
     "metadata": {},
     "output_type": "execute_result"
    }
   ],
   "source": [
    "merged_compliants['Количество рабочих часов'].sum()"
   ]
  },
  {
   "cell_type": "code",
   "execution_count": 21,
   "id": "1f170098",
   "metadata": {},
   "outputs": [
    {
     "data": {
      "text/html": [
       "<div>\n",
       "<style scoped>\n",
       "    .dataframe tbody tr th:only-of-type {\n",
       "        vertical-align: middle;\n",
       "    }\n",
       "\n",
       "    .dataframe tbody tr th {\n",
       "        vertical-align: top;\n",
       "    }\n",
       "\n",
       "    .dataframe thead th {\n",
       "        text-align: right;\n",
       "    }\n",
       "</style>\n",
       "<table border=\"1\" class=\"dataframe\">\n",
       "  <thead>\n",
       "    <tr style=\"text-align: right;\">\n",
       "      <th></th>\n",
       "      <th>Id процесса</th>\n",
       "      <th>РК по документу</th>\n",
       "      <th>ОП по складу</th>\n",
       "      <th>Номер документа</th>\n",
       "      <th>Код к/а</th>\n",
       "      <th>Название к/а</th>\n",
       "      <th>ФИО к/а</th>\n",
       "      <th>Телефон к/а</th>\n",
       "      <th>Класс 71</th>\n",
       "      <th>Класс 72</th>\n",
       "      <th>Менеджер из документа</th>\n",
       "      <th>Должность менеджера из документа</th>\n",
       "      <th>Класс 55</th>\n",
       "      <th>РК исполнителя этапа</th>\n",
       "      <th>Должность исполнителя этапа</th>\n",
       "      <th>Описание претензии</th>\n",
       "      <th>Исполнитель текущего этапа</th>\n",
       "      <th>Текущий этап</th>\n",
       "      <th>Дата запуска процесса</th>\n",
       "      <th>Дата завершения процесса</th>\n",
       "      <th>Количество дней работы процесса</th>\n",
       "      <th>Дата запуска текущего этапа</th>\n",
       "      <th>Количество часов отработки этапа процесса</th>\n",
       "      <th>ЛЦ по складу</th>\n",
       "      <th>Класс 71.</th>\n",
       "      <th>Класс 55.</th>\n",
       "      <th>Офис исполнителя этапа</th>\n",
       "      <th>РК</th>\n",
       "      <th>Отчёт</th>\n",
       "      <th>Дата завершения текущего этапа</th>\n",
       "      <th>Количество рабочих часов</th>\n",
       "      <th>маркер этапа</th>\n",
       "    </tr>\n",
       "  </thead>\n",
       "  <tbody>\n",
       "    <tr>\n",
       "      <th>5</th>\n",
       "      <td>2372342</td>\n",
       "      <td>Директор по продажам 2 РЦ Урал,Директор по про...</td>\n",
       "      <td>Нижний Тагил ОП1</td>\n",
       "      <td>509/138822-1</td>\n",
       "      <td>1219011</td>\n",
       "      <td>ЭЛЕКТРОМОНТАЖ ПКФ</td>\n",
       "      <td>NaN</td>\n",
       "      <td>NaN</td>\n",
       "      <td>0d4</td>\n",
       "      <td>~A</td>\n",
       "      <td>Саканцева Татьяна</td>\n",
       "      <td>Сотрудник ОП1 Н.Тагил</td>\n",
       "      <td>Э</td>\n",
       "      <td>Инженер по работе с рекламациями ЛЦ Екатеринбург</td>\n",
       "      <td>Инженер по работе с рекламациями ЛЦ Екатеринбург</td>\n",
       "      <td>Бракованная или некомплектная продукция</td>\n",
       "      <td>Говейлер Ирина</td>\n",
       "      <td>Ожидание ответа поставщика МРР (товар отправле...</td>\n",
       "      <td>2023-03-27</td>\n",
       "      <td>2023-09-06</td>\n",
       "      <td>163</td>\n",
       "      <td>2023-04-12 15:00:37</td>\n",
       "      <td>3526</td>\n",
       "      <td>Урал</td>\n",
       "      <td>Электромонтажные организации</td>\n",
       "      <td>менеджер по работе со строительными и электром...</td>\n",
       "      <td>ЛЦ Екатеринбург</td>\n",
       "      <td>УК</td>\n",
       "      <td>этап зависит от поставика</td>\n",
       "      <td>2023-09-06 13:00:37</td>\n",
       "      <td>907.00</td>\n",
       "      <td>1</td>\n",
       "    </tr>\n",
       "  </tbody>\n",
       "</table>\n",
       "</div>"
      ],
      "text/plain": [
       "   Id процесса                                    РК по документу  \\\n",
       "5      2372342  Директор по продажам 2 РЦ Урал,Директор по про...   \n",
       "\n",
       "       ОП по складу Номер документа  Код к/а       Название к/а ФИО к/а  \\\n",
       "5  Нижний Тагил ОП1    509/138822-1  1219011  ЭЛЕКТРОМОНТАЖ ПКФ     NaN   \n",
       "\n",
       "  Телефон к/а Класс 71 Класс 72 Менеджер из документа  \\\n",
       "5         NaN      0d4       ~A     Саканцева Татьяна   \n",
       "\n",
       "  Должность менеджера из документа Класс 55  \\\n",
       "5            Сотрудник ОП1 Н.Тагил        Э   \n",
       "\n",
       "                               РК исполнителя этапа  \\\n",
       "5  Инженер по работе с рекламациями ЛЦ Екатеринбург   \n",
       "\n",
       "                        Должность исполнителя этапа  \\\n",
       "5  Инженер по работе с рекламациями ЛЦ Екатеринбург   \n",
       "\n",
       "                        Описание претензии Исполнитель текущего этапа  \\\n",
       "5  Бракованная или некомплектная продукция             Говейлер Ирина   \n",
       "\n",
       "                                        Текущий этап Дата запуска процесса  \\\n",
       "5  Ожидание ответа поставщика МРР (товар отправле...            2023-03-27   \n",
       "\n",
       "  Дата завершения процесса  Количество дней работы процесса  \\\n",
       "5               2023-09-06                              163   \n",
       "\n",
       "  Дата запуска текущего этапа  Количество часов отработки этапа процесса  \\\n",
       "5         2023-04-12 15:00:37                                       3526   \n",
       "\n",
       "  ЛЦ по складу                     Класс 71.  \\\n",
       "5         Урал  Электромонтажные организации   \n",
       "\n",
       "                                           Класс 55. Офис исполнителя этапа  \\\n",
       "5  менеджер по работе со строительными и электром...        ЛЦ Екатеринбург   \n",
       "\n",
       "   РК                      Отчёт Дата завершения текущего этапа  \\\n",
       "5  УК  этап зависит от поставика            2023-09-06 13:00:37   \n",
       "\n",
       "  Количество рабочих часов  маркер этапа  \n",
       "5                   907.00             1  "
      ]
     },
     "execution_count": 21,
     "metadata": {},
     "output_type": "execute_result"
    }
   ],
   "source": [
    "merged_compliants.sort_values(['Количество рабочих часов'], ascending=False).head(1)\n",
    "merged_compliants['маркер этапа'] = 1\n",
    "merged_compliants.head(1)"
   ]
  },
  {
   "cell_type": "code",
   "execution_count": 22,
   "id": "9f33e50b",
   "metadata": {},
   "outputs": [],
   "source": [
    "compliants_order = ['Id процесса','РК по документу','ОП по складу','ЛЦ по складу',\n",
    "                    'Номер документа', 'Код к/а', 'Название к/а', 'ФИО к/а', 'Телефон к/а', 'Класс 71', 'Класс 71.',\n",
    "                    'Класс 72', 'Менеджер из документа', 'Должность менеджера из документа', 'ЛЦ по складу',\n",
    "                    'Класс 55', 'Класс 55.', 'РК исполнителя этапа', 'Должность исполнителя этапа',\n",
    "                    'Офис исполнителя этапа', 'РК', 'Описание претензии', 'Исполнитель текущего этапа',\n",
    "                    'Текущий этап', 'Дата запуска процесса', 'Дата завершения процесса',\n",
    "                    'Количество дней работы процесса', 'Дата запуска текущего этапа', \n",
    "                    'Дата завершения текущего этапа', 'Количество часов отработки этапа процесса',\n",
    "                    'маркер этапа', 'Количество рабочих часов', 'Отчёт']\n",
    "\n",
    "merged_compliants = merged_compliants.reindex(columns=compliants_order)"
   ]
  },
  {
   "cell_type": "markdown",
   "id": "a9054e93",
   "metadata": {},
   "source": [
    "## Среднее время МОПП, МООК, АП и КУ РЦ"
   ]
  },
  {
   "cell_type": "code",
   "execution_count": 23,
   "id": "ae523e38",
   "metadata": {},
   "outputs": [],
   "source": [
    "average_time_sales = merged_compliants.query(\n",
    "    '`Отчёт` == \"Отчет по среднему времени отработки этапов в ЦО МОПП, МООК, АП и КУ РЦ.\"')"
   ]
  },
  {
   "cell_type": "markdown",
   "id": "5e19d31f",
   "metadata": {},
   "source": [
    "## Среднее время ЦПП"
   ]
  },
  {
   "cell_type": "code",
   "execution_count": 24,
   "id": "33838e6f",
   "metadata": {},
   "outputs": [],
   "source": [
    "average_time_SSC = merged_compliants.query(\n",
    "    '`Офис исполнителя этапа` == \"ЦПП\"')"
   ]
  },
  {
   "cell_type": "markdown",
   "id": "1eacaf49",
   "metadata": {},
   "source": [
    "## УЛ РЦ"
   ]
  },
  {
   "cell_type": "code",
   "execution_count": 25,
   "id": "702ad2ab",
   "metadata": {},
   "outputs": [],
   "source": [
    "average_time_LM1 =  merged_compliants.query(\n",
    "    '`Отчёт` == \"Отчет по среднему времени отработки этапов в ЦО сотрудниками УЛ РЦ\"')\n",
    "GZIK = ['Принять решение После допроверки НООК/Зав.ВТЦ/ГЗиК', 'Проверить наличие Брака НООК/Зав.ВТЦ/ГЗиК']\n",
    "LC = ['ЛЦ Воронеж','ЛЦ Екатеринбург', 'ЛЦ Казань','ЛЦ Котельники','ЛЦ МЯ', 'ЛЦ Новосибирск', 'ЛЦ Ростов',\n",
    "      'ЛЦ Самара','ЛЦ Урал', 'ЛЦ Шушары']\n",
    "average_time_LM2 = merged_compliants.query(\n",
    "    '`Отчёт` == \"НООК\" and `Текущий этап` == @GZIK and `Офис исполнителя этапа` == @LC')\n",
    "average_time_LM = pd.concat([average_time_LM1, average_time_LM2], ignore_index=True)"
   ]
  },
  {
   "cell_type": "code",
   "execution_count": 26,
   "id": "9de632d3",
   "metadata": {},
   "outputs": [
    {
     "data": {
      "text/plain": [
       "array(['ЛЦ Шушары', 'ЛЦ Самара', 'ЛЦ Казань', 'ЛЦ Екатеринбург',\n",
       "       'ЛЦ Котельники', 'ЛЦ Ростов', 'ЛЦ МЯ', 'ЛЦ Воронеж'], dtype=object)"
      ]
     },
     "execution_count": 26,
     "metadata": {},
     "output_type": "execute_result"
    }
   ],
   "source": [
    "average_time_LM2['Офис исполнителя этапа'].unique()"
   ]
  },
  {
   "cell_type": "markdown",
   "id": "df8947bb",
   "metadata": {},
   "source": [
    "## Сохранение"
   ]
  },
  {
   "cell_type": "code",
   "execution_count": 27,
   "id": "29ee556c",
   "metadata": {},
   "outputs": [],
   "source": [
    "# Создайте объект ExcelWriter для записи данных в файл Excel\n",
    "writer = pd.ExcelWriter(archive_path_final_result)\n",
    "# Запишите DataFrame в файл Excel\n",
    "# Запишите DataFrame в файл Excel\n",
    "average_time_SSC.to_excel(writer, sheet_name=f'ЦПП', index=False)\n",
    "\n",
    "# Сохранение таблицы complianses_in_process_transposed на 1 лист\n",
    "average_time_sales.to_excel(writer, sheet_name='Продажи', index=False)\n",
    "\n",
    "# Сохранение таблицы complianses_in_process_2d_transposed на 2 лист\n",
    "average_time_LM.to_excel(writer, sheet_name='Логисты', index=False)\n",
    "\n",
    "# Сохранение таблицы complianses_in_process_2d_transposed на 2 лист\n",
    "merged_compliants.to_excel(writer, sheet_name='общий исходник', index=False)\n",
    "\n",
    "# Сохраните файл Excel\n",
    "writer.save()"
   ]
  },
  {
   "cell_type": "code",
   "execution_count": null,
   "id": "0751f8f1",
   "metadata": {},
   "outputs": [],
   "source": []
  }
 ],
 "metadata": {
  "kernelspec": {
   "display_name": "Python 3 (ipykernel)",
   "language": "python",
   "name": "python3"
  },
  "language_info": {
   "codemirror_mode": {
    "name": "ipython",
    "version": 3
   },
   "file_extension": ".py",
   "mimetype": "text/x-python",
   "name": "python",
   "nbconvert_exporter": "python",
   "pygments_lexer": "ipython3",
   "version": "3.10.9"
  },
  "toc": {
   "base_numbering": 1,
   "nav_menu": {},
   "number_sections": true,
   "sideBar": true,
   "skip_h1_title": false,
   "title_cell": "Table of Contents",
   "title_sidebar": "Contents",
   "toc_cell": false,
   "toc_position": {},
   "toc_section_display": true,
   "toc_window_display": false
  }
 },
 "nbformat": 4,
 "nbformat_minor": 5
}
